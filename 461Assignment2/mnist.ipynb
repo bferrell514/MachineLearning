{
 "cells": [
  {
   "cell_type": "code",
   "execution_count": 1,
   "metadata": {},
   "outputs": [
    {
     "name": "stdout",
     "output_type": "stream",
     "text": [
      "   pix_1  pix_2  pix_3  pix_4  pix_5  pix_6  pix_7  pix_8  pix_9  pix_10  ...  \\\n",
      "0      0      0      0      0      0      0      0      0      0       0  ...   \n",
      "1      0      0      0      0      0      0      0      0      0       0  ...   \n",
      "2      0      0      0      0      0      0      0      0      0       0  ...   \n",
      "3      0      0      0      0      0      0      0      0      0       0  ...   \n",
      "4      0      0      0      0      0      0      0      0      0       0  ...   \n",
      "\n",
      "   pix_775  pix_776  pix_777  pix_778  pix_779  pix_780  pix_781  pix_782  \\\n",
      "0        0        0        0        0        0        0        0        0   \n",
      "1        0        0        0        0        0        0        0        0   \n",
      "2        0        0        0        0        0        0        0        0   \n",
      "3        0        0        0        0        0        0        0        0   \n",
      "4        0        0        0        0        0        0        0        0   \n",
      "\n",
      "   pix_783  pix_784  \n",
      "0        0        0  \n",
      "1        0        0  \n",
      "2        0        0  \n",
      "3        0        0  \n",
      "4        0        0  \n",
      "\n",
      "[5 rows x 784 columns]\n",
      "0    3\n",
      "1    5\n",
      "2    9\n",
      "3    1\n",
      "4    8\n",
      "Name: Category, dtype: int64\n"
     ]
    }
   ],
   "source": [
    "# set up\n",
    "import pandas as pd\n",
    "import numpy as np\n",
    "np.set_printoptions(formatter={'float_kind':\"{:3.2f}\".format})\n",
    "from sklearn.metrics import accuracy_score\n",
    "from sklearn.model_selection import train_test_split\n",
    "from sklearn.model_selection import cross_val_score\n",
    "from sklearn.metrics import accuracy_score\n",
    "from sklearn.metrics import confusion_matrix\n",
    "from sklearn.tree import DecisionTreeClassifier\n",
    "from sklearn.neighbors import KNeighborsClassifier\n",
    "from sklearn.neural_network import MLPClassifier\n",
    "from sklearn.model_selection import GridSearchCV\n",
    "from sklearn.metrics import confusion_matrix\n",
    "\n",
    "# get data\n",
    "X = pd.read_csv('xTrain.csv')\n",
    "X = X.loc[:, ~X.columns.str.contains('^Unnamed')]\n",
    "print(X.head())\n",
    "\n",
    "# format training data for sklean\n",
    "Y = pd.read_csv('yTrain.csv')\n",
    "Y = Y.loc[:, ~Y.columns.str.contains('^Unnamed')]\n",
    "Y = Y['Category']\n",
    "print(Y.head())"
   ]
  },
  {
   "cell_type": "code",
   "execution_count": 8,
   "metadata": {},
   "outputs": [
    {
     "name": "stdout",
     "output_type": "stream",
     "text": [
      "Searching for the best decision tree.\n",
      "Grid Search: best parameters: {'criterion': 'entropy', 'max_depth': 15}\n",
      "Accuracy: 0.996500\n",
      "Confusion Matrix:\n",
      "      0     1     2     3     4     5     6     7     8     9\n",
      "0  3960     0     0     0     0     0     0     0     0     0\n",
      "1     2  4536     1     1     0     0     0     4     6     0\n",
      "2     1     5  3954     1     0     0     0     8     1     0\n",
      "3     0     2     4  4042     0     2     0     9     3     2\n",
      "4     0     0     0     1  3863     0     0     1     1    25\n",
      "5     0     3     2     2     1  3588     0     0     0     2\n",
      "6     0     0     0     0     0     0  3964     0     0     0\n",
      "7     0     3     8     0     2     0     0  4150     1     2\n",
      "8     1     3     2     0     0     1     0     0  3813     4\n",
      "9     1     0     0     1     3     3     1    10     4  3990\n"
     ]
    }
   ],
   "source": [
    "# decision trees\n",
    "print(\"Searching for the best decision tree.\")\n",
    "model = DecisionTreeClassifier(random_state=1)\n",
    "\n",
    "# grid search\n",
    "param_grid = {'max_depth': list(range(10,21)), 'criterion': ['entropy','gini'] }\n",
    "grid = GridSearchCV(model, param_grid, cv=5)\n",
    "grid.fit(X, Y)\n",
    "print(\"Grid Search: best parameters: {}\".format(grid.best_params_))\n",
    "\n",
    "# accuracy of best model with confidence interval\n",
    "best_model_tree = grid.best_estimator_\n",
    "predict_Y = best_model_tree.predict(X)\n",
    "acc = accuracy_score(Y, predict_Y)\n",
    "print(\"Accuracy: {:3.6f}\".format(acc))\n",
    "\n",
    "# build the confusion matrix\n",
    "labels = [0,1,2,3,4,5,6,7,8,9]\n",
    "cm = confusion_matrix(Y, predict_Y, labels=labels)\n",
    "cm_df = pd.DataFrame(cm, index=labels, columns=labels)\n",
    "print(\"Confusion Matrix:\\n{}\".format(cm_df))"
   ]
  },
  {
   "cell_type": "code",
   "execution_count": 5,
   "metadata": {},
   "outputs": [
    {
     "name": "stdout",
     "output_type": "stream",
     "text": [
      "Searching for the best KNN.\n",
      "Grid Search: best parameters: {'n_neighbors': 3}\n",
      "Accuracy: 0.982875\n",
      "Confusion Matrix:\n",
      "      0     1     2     3     4     5     6     7     8     9\n",
      "0  3943     2     1     0     0     2     8     1     1     2\n",
      "1     0  4538     5     1     0     0     0     4     1     1\n",
      "2    17    21  3878     6     3     0     1    37     6     1\n",
      "3     3     2    17  3987     0    19     1    18     8     9\n",
      "4     1    20     2     1  3824     0     6     3     0    34\n",
      "5    10     1     4    27     3  3520    25     1     2     5\n",
      "6     9     4     1     0     4     5  3941     0     0     0\n",
      "7     1    30     7     1     4     0     0  4096     0    27\n",
      "8    15    30    16    22    16    28     6     4  3667    20\n",
      "9     7     9     4    12    21     8     2    27     2  3921\n"
     ]
    }
   ],
   "source": [
    "# KNN\n",
    "print(\"Searching for the best KNN.\")\n",
    "model = KNeighborsClassifier()\n",
    "\n",
    "# grid search\n",
    "param_grid = {'n_neighbors': list(range(2,11))}\n",
    "grid = GridSearchCV(model, param_grid, cv=5)\n",
    "grid.fit(X, Y)\n",
    "print(\"Grid Search: best parameters: {}\".format(grid.best_params_))\n",
    "\n",
    "# accuracy of best model with confidence interval\n",
    "best_model_knn = grid.best_estimator_\n",
    "predict_Y = best_model_knn.predict(X)\n",
    "acc = accuracy_score(Y, predict_Y)\n",
    "print(\"Accuracy: {:3.6f}\".format(acc))\n",
    "\n",
    "# build the confusion matrix\n",
    "labels = [0,1,2,3,4,5,6,7,8,9]\n",
    "cm = confusion_matrix(Y, predict_Y, labels=labels)\n",
    "cm_df = pd.DataFrame(cm, index=labels, columns=labels)\n",
    "print(\"Confusion Matrix:\\n{}\".format(cm_df))"
   ]
  },
  {
   "cell_type": "code",
   "execution_count": 9,
   "metadata": {},
   "outputs": [],
   "source": [
    "# predict test data with the best tree model\n",
    "# get data\n",
    "XT = pd.read_csv('xTest.csv')\n",
    "XT = XT.loc[:, ~X.columns.str.contains('^Unnamed')]\n",
    "\n",
    "# predict\n",
    "YT = best_model_tree.predict(XT)\n",
    "YT = pd.DataFrame(data = YT, index = range(len(YT)), columns = ['Category'])\n",
    "YT.to_csv('yTest_tree.csv', index_label = 'ID')"
   ]
  },
  {
   "cell_type": "code",
   "execution_count": 7,
   "metadata": {},
   "outputs": [],
   "source": [
    "# predict test data with the best tree model\n",
    "# get data\n",
    "XT = pd.read_csv('xTest.csv')\n",
    "XT = XT.loc[:, ~X.columns.str.contains('^Unnamed')]\n",
    "\n",
    "# predict\n",
    "YT = best_model_knn.predict(XT)\n",
    "YT = pd.DataFrame(data = YT, index = range(len(YT)), columns = ['Category'])\n",
    "YT.to_csv('yTest_knn.csv', index_label = 'ID')"
   ]
  },
  {
   "cell_type": "code",
   "execution_count": null,
   "metadata": {},
   "outputs": [],
   "source": []
  }
 ],
 "metadata": {
  "kernelspec": {
   "display_name": "Python 3",
   "language": "python",
   "name": "python3"
  },
  "language_info": {
   "codemirror_mode": {
    "name": "ipython",
    "version": 3
   },
   "file_extension": ".py",
   "mimetype": "text/x-python",
   "name": "python",
   "nbconvert_exporter": "python",
   "pygments_lexer": "ipython3",
   "version": "3.8.3"
  }
 },
 "nbformat": 4,
 "nbformat_minor": 4
}
